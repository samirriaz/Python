{
  "nbformat": 4,
  "nbformat_minor": 0,
  "metadata": {
    "colab": {
      "name": "FinalProject.ipynb",
      "provenance": [],
      "collapsed_sections": [],
      "authorship_tag": "ABX9TyPi7dXcBStZ1fClZzct1NyN",
      "include_colab_link": true
    },
    "kernelspec": {
      "name": "python3",
      "display_name": "Python 3"
    }
  },
  "cells": [
    {
      "cell_type": "markdown",
      "metadata": {
        "id": "view-in-github",
        "colab_type": "text"
      },
      "source": [
        "<a href=\"https://colab.research.google.com/github/samirriaz/Python/blob/master/MiningR6S.ipynb\" target=\"_parent\"><img src=\"https://colab.research.google.com/assets/colab-badge.svg\" alt=\"Open In Colab\"/></a>"
      ]
    },
    {
      "cell_type": "code",
      "metadata": {
        "id": "ZgE1ZzNfGfzW",
        "colab_type": "code",
        "colab": {}
      },
      "source": [
        "## Written by Samir Khan on April 28, 2020\n",
        "\n",
        "import pandas as pand\n",
        "import matplotlib.pyplot as plt"
      ],
      "execution_count": 0,
      "outputs": []
    },
    {
      "cell_type": "code",
      "metadata": {
        "id": "q8uZLWxRGqXy",
        "colab_type": "code",
        "outputId": "cca6a139-1712-464e-a128-2a61f6d6b993",
        "colab": {
          "base_uri": "https://localhost:8080/",
          "height": 34
        }
      },
      "source": [
        "from google.colab import drive\n",
        "drive.mount('/content/drive')"
      ],
      "execution_count": 0,
      "outputs": [
        {
          "output_type": "stream",
          "text": [
            "Drive already mounted at /content/drive; to attempt to forcibly remount, call drive.mount(\"/content/drive\", force_remount=True).\n"
          ],
          "name": "stdout"
        }
      ]
    },
    {
      "cell_type": "markdown",
      "metadata": {
        "id": "ahzeeUmb6TPW",
        "colab_type": "text"
      },
      "source": [
        "# Read Spreadsheet as Attackers & Defenders"
      ]
    },
    {
      "cell_type": "code",
      "metadata": {
        "id": "T5FrcG0xGyep",
        "colab_type": "code",
        "colab": {}
      },
      "source": [
        "full_set = pand.ExcelFile('/content/drive/My Drive/DataMining/ProjectSpreadsheet.xlsx')\n",
        "attackers = pand.read_excel(full_set, 'Attackers')\n",
        "defenders = pand.read_excel(full_set, 'Defenders')"
      ],
      "execution_count": 0,
      "outputs": []
    },
    {
      "cell_type": "markdown",
      "metadata": {
        "id": "KpWcynMBjDfB",
        "colab_type": "text"
      },
      "source": [
        "# **Attackers**"
      ]
    },
    {
      "cell_type": "markdown",
      "metadata": {
        "id": "RxLwwPTdjcrx",
        "colab_type": "text"
      },
      "source": [
        "Sorted by Playtime"
      ]
    },
    {
      "cell_type": "code",
      "metadata": {
        "id": "jU9c8kJIotjP",
        "colab_type": "code",
        "outputId": "f0320797-ec6b-45a7-a747-67b50f2bc33f",
        "colab": {
          "base_uri": "https://localhost:8080/",
          "height": 429
        }
      },
      "source": [
        "print('Top 5 Attackers by Playtime')\n",
        "print('(more playtime = more accurate data)')\n",
        "attk_playtime = attackers.sort_values(by='playtime(mins)', ascending=False, ignore_index=True)\n",
        "attk_playtime['playtime(mins)'].head().plot(kind=\"bar\")\n",
        "print(attk_playtime.head())\n",
        "\n",
        "plt.xlabel('Operator Index')\n",
        "plt.ylabel('Time Played (minutes)')\n",
        "plt.show"
      ],
      "execution_count": 0,
      "outputs": [
        {
          "output_type": "stream",
          "text": [
            "Top 5 Attackers by Playtime\n",
            "(more playtime = more accurate data)\n",
            "     Operator  playtime(mins)  k/d_ratio  win%  matches_played\n",
            "0         Ash           26773       1.93  62.1            9123\n",
            "1      Twitch           11673       2.05  62.0            3877\n",
            "2      Sledge            9682       1.80  61.7            3232\n",
            "3      Hibana            7694       1.76  59.5            1193\n",
            "4  Blackbeard            6971       2.05  61.9            2281\n"
          ],
          "name": "stdout"
        },
        {
          "output_type": "execute_result",
          "data": {
            "text/plain": [
              "<function matplotlib.pyplot.show>"
            ]
          },
          "metadata": {
            "tags": []
          },
          "execution_count": 8
        },
        {
          "output_type": "display_data",
          "data": {
            "image/png": "[encoded data removed]",
            "text/plain": [
              "<Figure size 432x288 with 1 Axes>"
            ]
          },
          "metadata": {
            "tags": [],
            "needs_background": "light"
          }
        }
      ]
    },
    {
      "cell_type": "markdown",
      "metadata": {
        "id": "DOTmU7V4jnXk",
        "colab_type": "text"
      },
      "source": [
        "Sorted by K/D Ratio"
      ]
    },
    {
      "cell_type": "code",
      "metadata": {
        "id": "VfILxJJF0Y0F",
        "colab_type": "code",
        "outputId": "82ca631b-c737-4d17-d40f-333572562b56",
        "colab": {
          "base_uri": "https://localhost:8080/",
          "height": 431
        }
      },
      "source": [
        "print('Top 5 Attackers by K/D Ratio')\n",
        "print('(higher k/d = higher operator performance)')\n",
        "attk_kd = attackers.sort_values(by='k/d_ratio', ascending=False, ignore_index=True)\n",
        "attk_kd['k/d_ratio'].head().plot(kind=\"bar\")\n",
        "print(attk_kd.head())\n",
        "\n",
        "plt.axis(ymin=1.8)\n",
        "plt.xlabel('Operator Index')\n",
        "plt.ylabel('K/D Ratio')\n",
        "plt.show"
      ],
      "execution_count": 0,
      "outputs": [
        {
          "output_type": "stream",
          "text": [
            "Top 5 Attackers by K/D Ratio\n",
            "(higher k/d = higher operator performance)\n",
            "     Operator  playtime(mins)  k/d_ratio  win%  matches_played\n",
            "0  Blackbeard            6971       2.05  61.9            2281\n",
            "1      Twitch           11673       2.05  62.0            3877\n",
            "2          IQ            4233       1.96  62.6            1434\n",
            "3         Ash           26773       1.93  62.1            9123\n",
            "4      Jackal             999       1.85  62.1             317\n"
          ],
          "name": "stdout"
        },
        {
          "output_type": "execute_result",
          "data": {
            "text/plain": [
              "<function matplotlib.pyplot.show>"
            ]
          },
          "metadata": {
            "tags": []
          },
          "execution_count": 9
        },
        {
          "output_type": "display_data",
          "data": {
            "image/png": "[encoded data removed]",
            "text/plain": [
              "<Figure size 432x288 with 1 Axes>"
            ]
          },
          "metadata": {
            "tags": [],
            "needs_background": "light"
          }
        }
      ]
    },
    {
      "cell_type": "markdown",
      "metadata": {
        "id": "zpmTFftTjp_p",
        "colab_type": "text"
      },
      "source": [
        "Sorted by Win Rate"
      ]
    },
    {
      "cell_type": "code",
      "metadata": {
        "id": "CMRVgPAF0xtS",
        "colab_type": "code",
        "outputId": "c09862e3-d1ad-402e-f087-526d44a8c301",
        "colab": {
          "base_uri": "https://localhost:8080/",
          "height": 518
        }
      },
      "source": [
        "print('Top *10* Attackers by Win Rate')\n",
        "print('(accuracy of winrate determined by \"matches_played\" column')\n",
        "attk_winrate = attackers.sort_values(by='win%', ascending=False, ignore_index=True)\n",
        "attk_winrate['win%'].head(10).plot(kind=\"bar\")\n",
        "print(attk_winrate.head(10))\n",
        "\n",
        "plt.xlabel('Operator Index')\n",
        "plt.ylabel('Percent of games won')\n",
        "plt.axis(ymin=62)\n",
        "plt.axis(ymax=70)\n",
        "plt.show"
      ],
      "execution_count": 0,
      "outputs": [
        {
          "output_type": "stream",
          "text": [
            "Top *10* Attackers by Win Rate\n",
            "(accuracy of winrate determined by \"matches_played\" column\n",
            "   Operator  playtime(mins)  k/d_ratio  win%  matches_played\n",
            "0     Amaru              87       1.50  69.6              56\n",
            "1     Finka             484       1.68  66.8             193\n",
            "2   Capitão            3733       1.79  65.2            1266\n",
            "3  Dokkaebi             610       1.74  64.2             218\n",
            "4  Gridlock             284       1.51  64.1              78\n",
            "5      Nokk             119       0.93  63.6              21\n",
            "6     Nomad            1838       1.63  63.3             610\n",
            "7  Maverick             937       1.57  63.0             305\n",
            "8      Buck            6811       1.73  62.9            2668\n",
            "9      Lion            1865       1.75  62.9             669\n"
          ],
          "name": "stdout"
        },
        {
          "output_type": "execute_result",
          "data": {
            "text/plain": [
              "<function matplotlib.pyplot.show>"
            ]
          },
          "metadata": {
            "tags": []
          },
          "execution_count": 10
        },
        {
          "output_type": "display_data",
          "data": {
            "image/png": "[encoded data removed]",
            "text/plain": [
              "<Figure size 432x288 with 1 Axes>"
            ]
          },
          "metadata": {
            "tags": [],
            "needs_background": "light"
          }
        }
      ]
    },
    {
      "cell_type": "markdown",
      "metadata": {
        "id": "Vgjw_yLejkI-",
        "colab_type": "text"
      },
      "source": [
        "Sorted by Matches Played"
      ]
    },
    {
      "cell_type": "code",
      "metadata": {
        "id": "qshBiQTm3E_P",
        "colab_type": "code",
        "outputId": "a9779f16-2bbb-4f0b-f2d5-48d069bb7cf6",
        "colab": {
          "base_uri": "https://localhost:8080/",
          "height": 429
        }
      },
      "source": [
        "print('Top 5 Attackers by Matches Played')\n",
        "print('(more matches = more accurate data)')\n",
        "attk_matches = attackers.sort_values(by='matches_played', ascending=False, ignore_index=True)\n",
        "attk_matches['matches_played'].head().plot(kind=\"bar\")\n",
        "print(attk_matches.head())\n",
        "\n",
        "plt.xlabel('Operator Index')\n",
        "plt.ylabel('Matches Played')\n",
        "plt.show"
      ],
      "execution_count": 0,
      "outputs": [
        {
          "output_type": "stream",
          "text": [
            "Top 5 Attackers by Matches Played\n",
            "(more matches = more accurate data)\n",
            "     Operator  playtime(mins)  k/d_ratio  win%  matches_played\n",
            "0         Ash           26773       1.93  62.1            9123\n",
            "1      Twitch           11673       2.05  62.0            3877\n",
            "2      Sledge            9682       1.80  61.7            3232\n",
            "3        Buck            6811       1.73  62.9            2668\n",
            "4  Blackbeard            6971       2.05  61.9            2281\n"
          ],
          "name": "stdout"
        },
        {
          "output_type": "execute_result",
          "data": {
            "text/plain": [
              "<function matplotlib.pyplot.show>"
            ]
          },
          "metadata": {
            "tags": []
          },
          "execution_count": 11
        },
        {
          "output_type": "display_data",
          "data": {
            "image/png": "[encoded data removed]",
            "text/plain": [
              "<Figure size 432x288 with 1 Axes>"
            ]
          },
          "metadata": {
            "tags": [],
            "needs_background": "light"
          }
        }
      ]
    },
    {
      "cell_type": "markdown",
      "metadata": {
        "id": "TjcUNzOoj4ye",
        "colab_type": "text"
      },
      "source": [
        "# **Defenders**"
      ]
    },
    {
      "cell_type": "markdown",
      "metadata": {
        "id": "kUaXPH24kAQ_",
        "colab_type": "text"
      },
      "source": [
        "Sorted by Play Time"
      ]
    },
    {
      "cell_type": "code",
      "metadata": {
        "id": "SVr6LHnhkDUD",
        "colab_type": "code",
        "outputId": "01bb4aaa-22a0-4db6-82d1-47053c1ca562",
        "colab": {
          "base_uri": "https://localhost:8080/",
          "height": 430
        }
      },
      "source": [
        "print('Top 5 Defenders by Playtime')\n",
        "print('(more playtime = more accurate data)')\n",
        "def_playtime = defenders.sort_values(by='playtime(mins)', ascending=False, ignore_index=True)\n",
        "def_playtime['playtime(mins)'].head().plot(kind=\"bar\")\n",
        "print(def_playtime.head())\n",
        "\n",
        "plt.xlabel('Operator Index')\n",
        "plt.ylabel('Time Played (minutes)')\n",
        "plt.show"
      ],
      "execution_count": 0,
      "outputs": [
        {
          "output_type": "stream",
          "text": [
            "Top 5 Defenders by Playtime\n",
            "(more playtime = more accurate data)\n",
            "   Operator  playtime(mins)  k/d_ratio  win%  matches_played\n",
            "0     Jager           19257       1.85  64.8            4959\n",
            "1    Bandit           18501       1.79  67.4            5770\n",
            "2     Pulse           13322       1.76  62.4            4135\n",
            "3  Valkyrie            8800       1.82  67.6            2685\n",
            "4     Vigil            7758       1.87  68.1            2457\n"
          ],
          "name": "stdout"
        },
        {
          "output_type": "execute_result",
          "data": {
            "text/plain": [
              "<function matplotlib.pyplot.show>"
            ]
          },
          "metadata": {
            "tags": []
          },
          "execution_count": 12
        },
        {
          "output_type": "display_data",
          "data": {
            "image/png": "[encoded data removed]",
            "text/plain": [
              "<Figure size 432x288 with 1 Axes>"
            ]
          },
          "metadata": {
            "tags": [],
            "needs_background": "light"
          }
        }
      ]
    },
    {
      "cell_type": "markdown",
      "metadata": {
        "id": "3IrfmDpskfHl",
        "colab_type": "text"
      },
      "source": [
        "Sorted by K/D Ratio"
      ]
    },
    {
      "cell_type": "code",
      "metadata": {
        "id": "dEJZ5h9dkbHp",
        "colab_type": "code",
        "outputId": "1f92c438-b6b9-450a-a117-64128d2f550d",
        "colab": {
          "base_uri": "https://localhost:8080/",
          "height": 429
        }
      },
      "source": [
        "print('Top 5 Defenders by K/D Ratio')\n",
        "print('(higher k/d = higher operator performance)')\n",
        "def_kd = defenders.sort_values(by='k/d_ratio', ascending=False, ignore_index=True)\n",
        "def_kd['k/d_ratio'].head().plot(kind=\"bar\")\n",
        "print(def_kd.head())\n",
        "\n",
        "plt.axis(ymin=1.8)\n",
        "plt.xlabel('Operator Index')\n",
        "plt.ylabel('K/D Ratio')\n",
        "plt.show"
      ],
      "execution_count": 0,
      "outputs": [
        {
          "output_type": "stream",
          "text": [
            "Top 5 Defenders by K/D Ratio\n",
            "(higher k/d = higher operator performance)\n",
            "  Operator  playtime(mins)  k/d_ratio  win%  matches_played\n",
            "0     Mira            3253       2.03  70.8             995\n",
            "1    Alibi             981       1.87  67.4             328\n",
            "2    Vigil            7758       1.87  68.1            2457\n",
            "3    Jager           19257       1.85  64.8            4959\n",
            "4      Ela            6054       1.84  68.5            1863\n"
          ],
          "name": "stdout"
        },
        {
          "output_type": "execute_result",
          "data": {
            "text/plain": [
              "<function matplotlib.pyplot.show>"
            ]
          },
          "metadata": {
            "tags": []
          },
          "execution_count": 13
        },
        {
          "output_type": "display_data",
          "data": {
            "image/png": "[encoded data removed]",
            "text/plain": [
              "<Figure size 432x288 with 1 Axes>"
            ]
          },
          "metadata": {
            "tags": [],
            "needs_background": "light"
          }
        }
      ]
    },
    {
      "cell_type": "markdown",
      "metadata": {
        "id": "gzls1vqRlHzz",
        "colab_type": "text"
      },
      "source": [
        "Sorted by Win Rate"
      ]
    },
    {
      "cell_type": "code",
      "metadata": {
        "id": "B89FQgpclJrl",
        "colab_type": "code",
        "outputId": "51bbbedb-fb6a-456b-a139-4e1fac09dcc1",
        "colab": {
          "base_uri": "https://localhost:8080/",
          "height": 518
        }
      },
      "source": [
        "print('Top *10* Defenders by Win Rate')\n",
        "print('(accuracy of winrate determined by \"matches_played\" column')\n",
        "def_winrate = defenders.sort_values(by='win%', ascending=False, ignore_index=True)\n",
        "def_winrate['win%'].head(10).plot(kind=\"bar\")\n",
        "print(def_winrate.head(10))\n",
        "\n",
        "plt.xlabel('Operator Index')\n",
        "plt.ylabel('Percent of games won')\n",
        "plt.axis(ymin=65)\n",
        "plt.axis(ymax=74)\n",
        "plt.show"
      ],
      "execution_count": 0,
      "outputs": [
        {
          "output_type": "stream",
          "text": [
            "Top *10* Defenders by Win Rate\n",
            "(accuracy of winrate determined by \"matches_played\" column\n",
            "   Operator  playtime(mins)  k/d_ratio  win%  matches_played\n",
            "0     Wamai             138       1.76  72.1              43\n",
            "1     Clash             443       1.17  71.9             139\n",
            "2   Maestro            1163       1.73  71.6             356\n",
            "3    Mozzie            2252       1.74  71.0             676\n",
            "4      Mira            3253       2.03  70.8             995\n",
            "5    Lesion            4781       1.71  68.8            1430\n",
            "6       Ela            6054       1.84  68.5            1863\n",
            "7      Kaid            1227       1.48  68.3             382\n",
            "8     Vigil            7758       1.87  68.1            2457\n",
            "9  Valkyrie            8800       1.82  67.6            2685\n"
          ],
          "name": "stdout"
        },
        {
          "output_type": "execute_result",
          "data": {
            "text/plain": [
              "<function matplotlib.pyplot.show>"
            ]
          },
          "metadata": {
            "tags": []
          },
          "execution_count": 14
        },
        {
          "output_type": "display_data",
          "data": {
            "image/png": "[encoded data removed]",
            "text/plain": [
              "<Figure size 432x288 with 1 Axes>"
            ]
          },
          "metadata": {
            "tags": [],
            "needs_background": "light"
          }
        }
      ]
    },
    {
      "cell_type": "markdown",
      "metadata": {
        "colab_type": "text",
        "id": "Bqf0GVTXmCx7"
      },
      "source": [
        "Sorted by Matches Played"
      ]
    },
    {
      "cell_type": "code",
      "metadata": {
        "colab_type": "code",
        "id": "UuBjc4ummCx8",
        "outputId": "3b30d817-eef6-4391-d1a3-9e120b7d8486",
        "colab": {
          "base_uri": "https://localhost:8080/",
          "height": 431
        }
      },
      "source": [
        "print('Top 5 Defenders by Matches Played')\n",
        "print('(more matches = more accurate data)')\n",
        "def_matches = defenders.sort_values(by='matches_played', ascending=False, ignore_index=True)\n",
        "def_matches['matches_played'].head().plot(kind=\"bar\")\n",
        "print(def_matches.head())\n",
        "\n",
        "plt.xlabel('Operator Index')\n",
        "plt.ylabel('Matches Played')\n",
        "plt.show"
      ],
      "execution_count": 0,
      "outputs": [
        {
          "output_type": "stream",
          "text": [
            "Top 5 Defenders by Matches Played\n",
            "(more matches = more accurate data)\n",
            "   Operator  playtime(mins)  k/d_ratio  win%  matches_played\n",
            "0    Bandit           18501       1.79  67.4            5770\n",
            "1     Jager           19257       1.85  64.8            4959\n",
            "2     Pulse           13322       1.76  62.4            4135\n",
            "3  Valkyrie            8800       1.82  67.6            2685\n",
            "4     Vigil            7758       1.87  68.1            2457\n"
          ],
          "name": "stdout"
        },
        {
          "output_type": "execute_result",
          "data": {
            "text/plain": [
              "<function matplotlib.pyplot.show>"
            ]
          },
          "metadata": {
            "tags": []
          },
          "execution_count": 15
        },
        {
          "output_type": "display_data",
          "data": {
            "image/png": "[encoded data removed]",
            "text/plain": [
              "<Figure size 432x288 with 1 Axes>"
            ]
          },
          "metadata": {
            "tags": [],
            "needs_background": "light"
          }
        }
      ]
    }
  ]
}