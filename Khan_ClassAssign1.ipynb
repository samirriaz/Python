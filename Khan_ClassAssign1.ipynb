{
  "nbformat": 4,
  "nbformat_minor": 0,
  "metadata": {
    "colab": {
      "name": "Khan_ClassAssign1.ipynb",
      "provenance": [],
      "collapsed_sections": [
        "itjSugQNUywJ",
        "o7VV3nJ_vT55",
        "9EWrztemcK6j",
        "tfChfRX7cK63",
        "OukIZ6EZcK7K",
        "s6en8JLicK7b"
      ]
    },
    "kernelspec": {
      "display_name": "Python 3",
      "language": "python",
      "name": "python3"
    },
    "language_info": {
      "codemirror_mode": {
        "name": "ipython",
        "version": 3
      },
      "file_extension": ".py",
      "mimetype": "text/x-python",
      "name": "python",
      "nbconvert_exporter": "python",
      "pygments_lexer": "ipython3",
      "version": "3.7.4"
    }
  },
  "cells": [
    {
      "cell_type": "markdown",
      "metadata": {
        "colab_type": "text",
        "id": "7oxYrz0UU3SN"
      },
      "source": [
        "Name: Samir Khan\n",
        "Class: CS 4412/01\n",
        "Class Assignment 1"
      ]
    },
    {
      "cell_type": "markdown",
      "metadata": {
        "colab_type": "text",
        "id": "itjSugQNUywJ"
      },
      "source": [
        "## Imports ##"
      ]
    },
    {
      "cell_type": "code",
      "metadata": {
        "colab_type": "code",
        "id": "aKZ6-oBECouK",
        "colab": {}
      },
      "source": [
        "import numpy as np\n",
        "import pandas as pd\n",
        "import matplotlib.pyplot as plt\n",
        "from sklearn.preprocessing import LabelEncoder, OneHotEncoder, StandardScaler\n",
        "from sklearn.tree import DecisionTreeClassifier\n",
        "from sklearn.naive_bayes import GaussianNB\n",
        "from sklearn import svm\n",
        "from sklearn.neural_network import MLPClassifier as mlp\n",
        "from sklearn.model_selection import train_test_split\n",
        "from sklearn.metrics import confusion_matrix, accuracy_score, precision_score, recall_score\n",
        "from sklearn.utils import shuffle\n",
        "import seaborn as sns"
      ],
      "execution_count": 0,
      "outputs": []
    },
    {
      "cell_type": "markdown",
      "metadata": {
        "colab_type": "text",
        "id": "YXpvClLQvALx"
      },
      "source": [
        "Getting Data"
      ]
    },
    {
      "cell_type": "code",
      "metadata": {
        "colab_type": "code",
        "id": "tz-61AeH3ir9",
        "colab": {}
      },
      "source": [
        "# load dataset\n",
        "df = pd.read_csv(\"/content/ecoli.csv\", delim_whitespace=True,header=None)\n",
        "# names to Columns\n",
        "df.columns = ['SeqN', 'mcg', 'gvh', 'lip', 'chg', 'aac', 'alm2', 'alm1', 'pclass']\n",
        "                      \n",
        "df = df.drop('SeqN', axis=1) # don't need this, not feature\n",
        "\n",
        "# Encode Data\n",
        "df.pclass.replace(('cp', 'im', 'pp', 'imU', 'om', 'omL', 'imL', 'imS'),(0,1,2,3,4,5,6,7), inplace=True)\n",
        "\n",
        "# Set X and y Values\n",
        "data = df.values\n",
        "X = data[:,0:7] # seven features\n",
        "y = data[:,7] # pclass "
      ],
      "execution_count": 0,
      "outputs": []
    },
    {
      "cell_type": "markdown",
      "metadata": {
        "colab_type": "text",
        "id": "4-7PmYpat9jz"
      },
      "source": [
        "Print X & Y Values"
      ]
    },
    {
      "cell_type": "code",
      "metadata": {
        "colab_type": "code",
        "id": "LBEiR2H5cK6B",
        "outputId": "b2a69c37-fb4d-44a2-8723-d79bdf24e136",
        "colab": {
          "base_uri": "https://localhost:8080/",
          "height": 153
        }
      },
      "source": [
        "print(\"Features:\\n\", X)"
      ],
      "execution_count": 3,
      "outputs": [
        {
          "output_type": "stream",
          "text": [
            "Features:\n",
            " [[0.49 0.29 0.48 ... 0.56 0.24 0.35]\n",
            " [0.07 0.4  0.48 ... 0.54 0.35 0.44]\n",
            " [0.56 0.4  0.48 ... 0.49 0.37 0.46]\n",
            " ...\n",
            " [0.61 0.6  0.48 ... 0.44 0.39 0.38]\n",
            " [0.59 0.61 0.48 ... 0.42 0.42 0.37]\n",
            " [0.74 0.74 0.48 ... 0.31 0.53 0.52]]\n"
          ],
          "name": "stdout"
        }
      ]
    },
    {
      "cell_type": "code",
      "metadata": {
        "colab_type": "code",
        "id": "MU9ETfbDn1ZG",
        "outputId": "56ec9813-d4c7-47c5-84f5-33789c4cd2ce",
        "colab": {
          "base_uri": "https://localhost:8080/",
          "height": 272
        }
      },
      "source": [
        "print(\"Output Classes:\\n\", y)"
      ],
      "execution_count": 4,
      "outputs": [
        {
          "output_type": "stream",
          "text": [
            "Output Classes:\n",
            " [0. 0. 0. 0. 0. 0. 0. 0. 0. 0. 0. 0. 0. 0. 0. 0. 0. 0. 0. 0. 0. 0. 0. 0.\n",
            " 0. 0. 0. 0. 0. 0. 0. 0. 0. 0. 0. 0. 0. 0. 0. 0. 0. 0. 0. 0. 0. 0. 0. 0.\n",
            " 0. 0. 0. 0. 0. 0. 0. 0. 0. 0. 0. 0. 0. 0. 0. 0. 0. 0. 0. 0. 0. 0. 0. 0.\n",
            " 0. 0. 0. 0. 0. 0. 0. 0. 0. 0. 0. 0. 0. 0. 0. 0. 0. 0. 0. 0. 0. 0. 0. 0.\n",
            " 0. 0. 0. 0. 0. 0. 0. 0. 0. 0. 0. 0. 0. 0. 0. 0. 0. 0. 0. 0. 0. 0. 0. 0.\n",
            " 0. 0. 0. 0. 0. 0. 0. 0. 0. 0. 0. 0. 0. 0. 0. 0. 0. 0. 0. 0. 0. 0. 0. 1.\n",
            " 1. 1. 1. 1. 1. 1. 1. 1. 1. 1. 1. 1. 1. 1. 1. 1. 1. 1. 1. 1. 1. 1. 1. 1.\n",
            " 1. 1. 1. 1. 1. 1. 1. 1. 1. 1. 1. 1. 1. 1. 1. 1. 1. 1. 1. 1. 1. 1. 1. 1.\n",
            " 1. 1. 1. 1. 1. 1. 1. 1. 1. 1. 1. 1. 1. 1. 1. 1. 1. 1. 1. 1. 1. 1. 1. 1.\n",
            " 1. 1. 1. 1. 7. 7. 6. 6. 3. 3. 3. 3. 3. 3. 3. 3. 3. 3. 3. 3. 3. 3. 3. 3.\n",
            " 3. 3. 3. 3. 3. 3. 3. 3. 3. 3. 3. 3. 3. 3. 3. 3. 3. 3. 3. 4. 4. 4. 4. 4.\n",
            " 4. 4. 4. 4. 4. 4. 4. 4. 4. 4. 4. 4. 4. 4. 4. 5. 5. 5. 5. 5. 2. 2. 2. 2.\n",
            " 2. 2. 2. 2. 2. 2. 2. 2. 2. 2. 2. 2. 2. 2. 2. 2. 2. 2. 2. 2. 2. 2. 2. 2.\n",
            " 2. 2. 2. 2. 2. 2. 2. 2. 2. 2. 2. 2. 2. 2. 2. 2. 2. 2. 2. 2. 2. 2. 2. 2.]\n"
          ],
          "name": "stdout"
        }
      ]
    },
    {
      "cell_type": "markdown",
      "metadata": {
        "colab_type": "text",
        "id": "usSZ2ACBuCd7"
      },
      "source": [
        "Data Training & Testing"
      ]
    },
    {
      "cell_type": "code",
      "metadata": {
        "colab_type": "code",
        "id": "9mNsjf33uE0N",
        "colab": {}
      },
      "source": [
        "xTrain, xTest, yTrain, yTest = train_test_split(X, y, test_size=0.2, random_state=0, shuffle=True)"
      ],
      "execution_count": 0,
      "outputs": []
    },
    {
      "cell_type": "markdown",
      "metadata": {
        "colab_type": "text",
        "id": "o7VV3nJ_vT55"
      },
      "source": [
        "## Neural Network"
      ]
    },
    {
      "cell_type": "code",
      "metadata": {
        "colab_type": "code",
        "id": "-qBeqGzYcK6M",
        "colab": {}
      },
      "source": [
        "nn = mlp(hidden_layer_sizes=(300),activation='relu',max_iter=3000)\n",
        "nn.fit(xTrain, yTrain)\n",
        "pred = nn.predict(xTest)"
      ],
      "execution_count": 0,
      "outputs": []
    },
    {
      "cell_type": "code",
      "metadata": {
        "colab_type": "code",
        "id": "5RMv6K4KcK6R",
        "outputId": "831e8042-c593-4e28-d390-892aa171d06c",
        "colab": {
          "base_uri": "https://localhost:8080/",
          "height": 34
        }
      },
      "source": [
        "nnAccuracy = accuracy_score(pred, yTest)\n",
        "print('accuracy:',nnAccuracy)"
      ],
      "execution_count": 7,
      "outputs": [
        {
          "output_type": "stream",
          "text": [
            "accuracy: 0.8823529411764706\n"
          ],
          "name": "stdout"
        }
      ]
    },
    {
      "cell_type": "code",
      "metadata": {
        "colab_type": "code",
        "id": "OYqNKXXycK6V",
        "outputId": "2581c0a7-1582-4b1d-d24e-82220efbc3b7",
        "colab": {
          "base_uri": "https://localhost:8080/",
          "height": 422
        }
      },
      "source": [
        "print(confusion_matrix(yTest, pred))\n",
        "sns.heatmap(confusion_matrix(yTest, pred))"
      ],
      "execution_count": 8,
      "outputs": [
        {
          "output_type": "stream",
          "text": [
            "[[35  0  0  0  0  0  0  0]\n",
            " [ 1  7  0  1  0  0  0  0]\n",
            " [ 2  0  8  0  0  0  0  0]\n",
            " [ 0  1  0  4  0  0  0  0]\n",
            " [ 0  0  1  0  4  0  0  0]\n",
            " [ 0  0  0  0  0  2  0  0]\n",
            " [ 0  0  0  1  0  0  0  0]\n",
            " [ 0  1  0  0  0  0  0  0]]\n"
          ],
          "name": "stdout"
        },
        {
          "output_type": "execute_result",
          "data": {
            "text/plain": [
              "<matplotlib.axes._subplots.AxesSubplot at 0x7f265da6c668>"
            ]
          },
          "metadata": {
            "tags": []
          },
          "execution_count": 8
        },
        {
          "output_type": "display_data",
          "data": {
            "image/png": "[encoded data removed]",
            "text/plain": [
              "<Figure size 432x288 with 2 Axes>"
            ]
          },
          "metadata": {
            "tags": []
          }
        }
      ]
    },
    {
      "cell_type": "code",
      "metadata": {
        "colab_type": "code",
        "id": "3iHgSKoFcK6Z",
        "outputId": "1441409e-4e24-45b4-ca2b-762cbd48d103",
        "colab": {
          "base_uri": "https://localhost:8080/",
          "height": 51
        }
      },
      "source": [
        "nn_precision = precision_score(yTest,pred,average='micro')\n",
        "nn_recall = recall_score(yTest,pred,average='micro')\n",
        "print('Precision:',nn_precision)\n",
        "print('Recall:',nn_recall)"
      ],
      "execution_count": 9,
      "outputs": [
        {
          "output_type": "stream",
          "text": [
            "Precision: 0.8823529411764706\n",
            "Recall: 0.8823529411764706\n"
          ],
          "name": "stdout"
        }
      ]
    },
    {
      "cell_type": "code",
      "metadata": {
        "colab_type": "code",
        "id": "8eu4Vn7ZcK6c",
        "outputId": "b2521993-8ed3-4947-e77c-cbfff4c39e13",
        "colab": {
          "base_uri": "https://localhost:8080/",
          "height": 282
        }
      },
      "source": [
        "plt.bar(['Precision','Recall','Accuracy'],[nn_precision, nn_recall, nnAccuracy])"
      ],
      "execution_count": 10,
      "outputs": [
        {
          "output_type": "execute_result",
          "data": {
            "text/plain": [
              "<BarContainer object of 3 artists>"
            ]
          },
          "metadata": {
            "tags": []
          },
          "execution_count": 10
        },
        {
          "output_type": "display_data",
          "data": {
            "image/png": "[encoded data removed]",
            "text/plain": [
              "<Figure size 432x288 with 1 Axes>"
            ]
          },
          "metadata": {
            "tags": []
          }
        }
      ]
    },
    {
      "cell_type": "markdown",
      "metadata": {
        "colab_type": "text",
        "id": "9EWrztemcK6j"
      },
      "source": [
        "## Decision Tree ##"
      ]
    },
    {
      "cell_type": "code",
      "metadata": {
        "colab_type": "code",
        "id": "u6ZC35LMcK6k",
        "colab": {}
      },
      "source": [
        "dt = DecisionTreeClassifier()\n",
        "dt.fit(xTrain, yTrain)"
      ],
      "execution_count": 0,
      "outputs": []
    },
    {
      "cell_type": "code",
      "metadata": {
        "colab_type": "code",
        "id": "jXAhbso8cK6o",
        "outputId": "1c735662-dbd3-4b7f-eab6-78a76ba15a69",
        "colab": {
          "base_uri": "https://localhost:8080/",
          "height": 34
        }
      },
      "source": [
        "predicted = dt.predict(xTest)\n",
        "dt_acc = accuracy_score(yTest, predicted)\n",
        "print('accuracy:',dt_acc)"
      ],
      "execution_count": 12,
      "outputs": [
        {
          "output_type": "stream",
          "text": [
            "accuracy: 0.8235294117647058\n"
          ],
          "name": "stdout"
        }
      ]
    },
    {
      "cell_type": "code",
      "metadata": {
        "colab_type": "code",
        "id": "HQRq9jSAcK6s",
        "outputId": "61b66f29-f5ca-4315-b037-f501f80cd389",
        "colab": {
          "base_uri": "https://localhost:8080/",
          "height": 418
        }
      },
      "source": [
        "print(confusion_matrix(yTest, predicted))\n",
        "sns.heatmap(confusion_matrix(yTest, predicted))"
      ],
      "execution_count": 13,
      "outputs": [
        {
          "output_type": "stream",
          "text": [
            "[[34  0  1  0  0  0  0  0]\n",
            " [ 1  8  0  0  0  0  0  0]\n",
            " [ 2  1  6  0  0  0  0  1]\n",
            " [ 0  2  0  3  0  0  0  0]\n",
            " [ 0  0  1  0  4  0  0  0]\n",
            " [ 1  0  0  0  0  1  0  0]\n",
            " [ 0  1  0  0  0  0  0  0]\n",
            " [ 0  0  0  1  0  0  0  0]]\n"
          ],
          "name": "stdout"
        },
        {
          "output_type": "execute_result",
          "data": {
            "text/plain": [
              "<matplotlib.axes._subplots.AxesSubplot at 0x7f265c26e240>"
            ]
          },
          "metadata": {
            "tags": []
          },
          "execution_count": 13
        },
        {
          "output_type": "display_data",
          "data": {
            "image/png": "[encoded data removed]",
            "text/plain": [
              "<Figure size 432x288 with 2 Axes>"
            ]
          },
          "metadata": {
            "tags": []
          }
        }
      ]
    },
    {
      "cell_type": "code",
      "metadata": {
        "colab_type": "code",
        "id": "LHbV-897cK6v",
        "outputId": "fdfe26d1-0a91-4ce4-fb2b-25f0cdb6cd65",
        "colab": {
          "base_uri": "https://localhost:8080/",
          "height": 51
        }
      },
      "source": [
        "dt_precision = precision_score(yTest,predicted,average='micro')\n",
        "dt_recall = recall_score(yTest,predicted,average='micro')\n",
        "print('Precision:',dt_precision)\n",
        "print('Recall:',dt_recall)"
      ],
      "execution_count": 14,
      "outputs": [
        {
          "output_type": "stream",
          "text": [
            "Precision: 0.8235294117647058\n",
            "Recall: 0.8235294117647058\n"
          ],
          "name": "stdout"
        }
      ]
    },
    {
      "cell_type": "code",
      "metadata": {
        "colab_type": "code",
        "id": "SUvoxwv_cK6z",
        "outputId": "daa43cac-48d0-40a1-a6e9-52b506cbaa71",
        "colab": {
          "base_uri": "https://localhost:8080/",
          "height": 282
        }
      },
      "source": [
        "plt.bar(['Precision','Recall','Accuracy'],[dt_precision, dt_recall, dt_acc])"
      ],
      "execution_count": 15,
      "outputs": [
        {
          "output_type": "execute_result",
          "data": {
            "text/plain": [
              "<BarContainer object of 3 artists>"
            ]
          },
          "metadata": {
            "tags": []
          },
          "execution_count": 15
        },
        {
          "output_type": "display_data",
          "data": {
            "image/png": "[encoded data removed]",
            "text/plain": [
              "<Figure size 432x288 with 1 Axes>"
            ]
          },
          "metadata": {
            "tags": []
          }
        }
      ]
    },
    {
      "cell_type": "markdown",
      "metadata": {
        "colab_type": "text",
        "id": "tfChfRX7cK63"
      },
      "source": [
        "## Naive Bayes ##"
      ]
    },
    {
      "cell_type": "code",
      "metadata": {
        "colab_type": "code",
        "id": "h3waiPp7cK64",
        "outputId": "6906c9b4-4ed5-437f-e7a7-5b8d715d9d61",
        "colab": {
          "base_uri": "https://localhost:8080/",
          "height": 0
        }
      },
      "source": [
        "gb = GaussianNB()\n",
        "gb.fit(xTrain, yTrain)"
      ],
      "execution_count": 16,
      "outputs": [
        {
          "output_type": "execute_result",
          "data": {
            "text/plain": [
              "GaussianNB(priors=None, var_smoothing=1e-09)"
            ]
          },
          "metadata": {
            "tags": []
          },
          "execution_count": 16
        }
      ]
    },
    {
      "cell_type": "code",
      "metadata": {
        "colab_type": "code",
        "id": "GQCB9xRDcK68",
        "outputId": "8e42a41c-f381-4118-a011-0c345cc9d8bc",
        "colab": {
          "base_uri": "https://localhost:8080/",
          "height": 0
        }
      },
      "source": [
        "predicted = gb.predict(xTest)\n",
        "gb_acc = accuracy_score(yTest, predicted)\n",
        "print('accuracy:',gb_acc)"
      ],
      "execution_count": 17,
      "outputs": [
        {
          "output_type": "stream",
          "text": [
            "accuracy: 0.7941176470588235\n"
          ],
          "name": "stdout"
        }
      ]
    },
    {
      "cell_type": "code",
      "metadata": {
        "colab_type": "code",
        "id": "AfEfumeTcK7B",
        "outputId": "3fa9f9b1-6610-4d3a-fcd3-196e14a0412c",
        "colab": {
          "base_uri": "https://localhost:8080/",
          "height": 0
        }
      },
      "source": [
        "print(confusion_matrix(yTest, predicted))\n",
        "sns.heatmap(confusion_matrix(yTest, predicted))"
      ],
      "execution_count": 18,
      "outputs": [
        {
          "output_type": "stream",
          "text": [
            "[[35  0  0  0  0  0  0  0]\n",
            " [ 4  5  0  0  0  0  0  0]\n",
            " [ 2  0  8  0  0  0  0  0]\n",
            " [ 0  0  2  3  0  0  0  0]\n",
            " [ 0  0  4  0  1  0  0  0]\n",
            " [ 0  0  0  0  0  2  0  0]\n",
            " [ 0  0  0  1  0  0  0  0]\n",
            " [ 0  1  0  0  0  0  0  0]]\n"
          ],
          "name": "stdout"
        },
        {
          "output_type": "execute_result",
          "data": {
            "text/plain": [
              "<matplotlib.axes._subplots.AxesSubplot at 0x7f265c0fe4e0>"
            ]
          },
          "metadata": {
            "tags": []
          },
          "execution_count": 18
        },
        {
          "output_type": "display_data",
          "data": {
            "image/png": "[encoded data removed]",
            "text/plain": [
              "<Figure size 432x288 with 2 Axes>"
            ]
          },
          "metadata": {
            "tags": []
          }
        }
      ]
    },
    {
      "cell_type": "code",
      "metadata": {
        "colab_type": "code",
        "id": "DdKyStkvcK7E",
        "outputId": "49aa4927-799a-467c-f877-c52a27d1ba70",
        "colab": {
          "base_uri": "https://localhost:8080/",
          "height": 0
        }
      },
      "source": [
        "gb_precision = precision_score(yTest,predicted,average='micro')\n",
        "gb_recall = recall_score(yTest,predicted,average='micro')\n",
        "print('Precision:',gb_precision)\n",
        "print('Recall:',gb_recall)"
      ],
      "execution_count": 19,
      "outputs": [
        {
          "output_type": "stream",
          "text": [
            "Precision: 0.7941176470588235\n",
            "Recall: 0.7941176470588235\n"
          ],
          "name": "stdout"
        }
      ]
    },
    {
      "cell_type": "code",
      "metadata": {
        "colab_type": "code",
        "id": "85ItXfFOcK7H",
        "outputId": "913bab57-5b84-4704-d843-8c33c02c18bc",
        "colab": {
          "base_uri": "https://localhost:8080/",
          "height": 0
        }
      },
      "source": [
        "plt.bar(['Precision','Recall','Accuracy'],[gb_precision, gb_recall, gb_acc])"
      ],
      "execution_count": 20,
      "outputs": [
        {
          "output_type": "execute_result",
          "data": {
            "text/plain": [
              "<BarContainer object of 3 artists>"
            ]
          },
          "metadata": {
            "tags": []
          },
          "execution_count": 20
        },
        {
          "output_type": "display_data",
          "data": {
            "image/png": "[encoded data removed]",
            "text/plain": [
              "<Figure size 432x288 with 1 Axes>"
            ]
          },
          "metadata": {
            "tags": []
          }
        }
      ]
    },
    {
      "cell_type": "markdown",
      "metadata": {
        "colab_type": "text",
        "id": "OukIZ6EZcK7K"
      },
      "source": [
        "## Support Vector Machines ##"
      ]
    },
    {
      "cell_type": "code",
      "metadata": {
        "colab_type": "code",
        "id": "cQa6CjSJcK7M",
        "outputId": "a06d4c37-8322-47ee-b792-beec536cfa05",
        "colab": {
          "base_uri": "https://localhost:8080/",
          "height": 0
        }
      },
      "source": [
        "sv = svm.SVC(gamma='auto')\n",
        "sv.fit(xTrain, yTrain)"
      ],
      "execution_count": 21,
      "outputs": [
        {
          "output_type": "execute_result",
          "data": {
            "text/plain": [
              "SVC(C=1.0, break_ties=False, cache_size=200, class_weight=None, coef0=0.0,\n",
              "    decision_function_shape='ovr', degree=3, gamma='auto', kernel='rbf',\n",
              "    max_iter=-1, probability=False, random_state=None, shrinking=True,\n",
              "    tol=0.001, verbose=False)"
            ]
          },
          "metadata": {
            "tags": []
          },
          "execution_count": 21
        }
      ]
    },
    {
      "cell_type": "code",
      "metadata": {
        "colab_type": "code",
        "id": "L60e-aL3cK7P",
        "outputId": "f6121899-9d5c-45b8-ad77-71527876957f",
        "colab": {
          "base_uri": "https://localhost:8080/",
          "height": 0
        }
      },
      "source": [
        "predicted = sv.predict(xTest)\n",
        "acc_svm = accuracy_score(yTest, predicted)\n",
        "print('accuracy:',acc_svm)"
      ],
      "execution_count": 22,
      "outputs": [
        {
          "output_type": "stream",
          "text": [
            "accuracy: 0.7205882352941176\n"
          ],
          "name": "stdout"
        }
      ]
    },
    {
      "cell_type": "code",
      "metadata": {
        "colab_type": "code",
        "id": "nGCg9wslcK7S",
        "outputId": "96362585-c7fe-427b-c101-d42f683c6361",
        "colab": {
          "base_uri": "https://localhost:8080/",
          "height": 0
        }
      },
      "source": [
        "print(confusion_matrix(yTest, predicted))\n",
        "sns.heatmap(confusion_matrix(yTest, predicted))"
      ],
      "execution_count": 23,
      "outputs": [
        {
          "output_type": "stream",
          "text": [
            "[[35  0  0  0  0  0  0  0]\n",
            " [ 3  6  0  0  0  0  0  0]\n",
            " [ 2  0  8  0  0  0  0  0]\n",
            " [ 0  5  0  0  0  0  0  0]\n",
            " [ 0  0  5  0  0  0  0  0]\n",
            " [ 0  0  2  0  0  0  0  0]\n",
            " [ 0  1  0  0  0  0  0  0]\n",
            " [ 0  1  0  0  0  0  0  0]]\n"
          ],
          "name": "stdout"
        },
        {
          "output_type": "execute_result",
          "data": {
            "text/plain": [
              "<matplotlib.axes._subplots.AxesSubplot at 0x7f265c0192e8>"
            ]
          },
          "metadata": {
            "tags": []
          },
          "execution_count": 23
        },
        {
          "output_type": "display_data",
          "data": {
            "image/png": "[encoded data removed]",
            "text/plain": [
              "<Figure size 432x288 with 2 Axes>"
            ]
          },
          "metadata": {
            "tags": []
          }
        }
      ]
    },
    {
      "cell_type": "code",
      "metadata": {
        "colab_type": "code",
        "id": "c7SANzDocK7V",
        "outputId": "bfc81412-8942-488a-ad00-a47271ec7204",
        "colab": {
          "base_uri": "https://localhost:8080/",
          "height": 0
        }
      },
      "source": [
        "precision_svm = precision_score(yTest,predicted,average='micro')\n",
        "recall_svm = recall_score(yTest,predicted,average='micro')\n",
        "print('Precision:',precision_svm)\n",
        "print('Recall:',recall_svm)"
      ],
      "execution_count": 24,
      "outputs": [
        {
          "output_type": "stream",
          "text": [
            "Precision: 0.7205882352941176\n",
            "Recall: 0.7205882352941176\n"
          ],
          "name": "stdout"
        }
      ]
    },
    {
      "cell_type": "code",
      "metadata": {
        "colab_type": "code",
        "id": "WJhI8PoucK7Y",
        "outputId": "3b750e01-d2f0-4946-cf43-b8fef5721722",
        "colab": {
          "base_uri": "https://localhost:8080/",
          "height": 0
        }
      },
      "source": [
        "plt.bar(['Precision','Recall','Accuracy'],[precision_svm, recall_svm, acc_svm])"
      ],
      "execution_count": 25,
      "outputs": [
        {
          "output_type": "execute_result",
          "data": {
            "text/plain": [
              "<BarContainer object of 3 artists>"
            ]
          },
          "metadata": {
            "tags": []
          },
          "execution_count": 25
        },
        {
          "output_type": "display_data",
          "data": {
            "image/png": "[encoded data removed]",
            "text/plain": [
              "<Figure size 432x288 with 1 Axes>"
            ]
          },
          "metadata": {
            "tags": []
          }
        }
      ]
    },
    {
      "cell_type": "markdown",
      "metadata": {
        "colab_type": "text",
        "id": "s6en8JLicK7b"
      },
      "source": [
        "## Comparisons ##"
      ]
    },
    {
      "cell_type": "code",
      "metadata": {
        "colab_type": "code",
        "id": "uBqJ5PVfcK7b",
        "outputId": "54fc3519-fab8-461d-b439-7fa55f88720e",
        "colab": {
          "base_uri": "https://localhost:8080/",
          "height": 281
        }
      },
      "source": [
        "plt.bar(['ANN','Decision Tree','Gaussian Bayes', 'SVM'],[nnAccuracy, dt_acc, gb_acc, acc_svm])\n",
        "plt.title('Accuracies for all algorithms')\n",
        "plt.show()"
      ],
      "execution_count": 26,
      "outputs": [
        {
          "output_type": "display_data",
          "data": {
            "image/png": "[encoded data removed]",
            "text/plain": [
              "<Figure size 432x288 with 1 Axes>"
            ]
          },
          "metadata": {
            "tags": []
          }
        }
      ]
    },
    {
      "cell_type": "code",
      "metadata": {
        "colab_type": "code",
        "id": "DCBsYCjucK7f",
        "outputId": "c45cb273-da26-437c-af56-b945d74701c3",
        "colab": {
          "base_uri": "https://localhost:8080/",
          "height": 281
        }
      },
      "source": [
        "plt.bar(['ANN','Decision Tree','Gaussian Bayes', 'SVM'],[nn_precision, dt_precision, gb_precision, precision_svm])\n",
        "plt.title('Precision for all algorithms')\n",
        "plt.show()"
      ],
      "execution_count": 27,
      "outputs": [
        {
          "output_type": "display_data",
          "data": {
            "image/png": "[encoded data removed]",
            "text/plain": [
              "<Figure size 432x288 with 1 Axes>"
            ]
          },
          "metadata": {
            "tags": []
          }
        }
      ]
    },
    {
      "cell_type": "code",
      "metadata": {
        "colab_type": "code",
        "id": "gfovxHIfcK7j",
        "outputId": "56f165d6-e8d0-44b9-b609-6717aea0546d",
        "colab": {
          "base_uri": "https://localhost:8080/",
          "height": 281
        }
      },
      "source": [
        "plt.bar(['ANN','Decision Tree','Gaussian Bayes', 'SVM'],[nn_recall, dt_recall, gb_recall, recall_svm])\n",
        "plt.title('Recall for all algorithms')\n",
        "plt.show()"
      ],
      "execution_count": 28,
      "outputs": [
        {
          "output_type": "display_data",
          "data": {
            "image/png": "[encoded data removed]",
            "text/plain": [
              "<Figure size 432x288 with 1 Axes>"
            ]
          },
          "metadata": {
            "tags": []
          }
        }
      ]
    }
  ]
}